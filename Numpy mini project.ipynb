{
 "cells": [
  {
   "cell_type": "code",
   "execution_count": 10,
   "metadata": {},
   "outputs": [
    {
     "data": {
      "text/plain": [
       "(1000, 20)"
      ]
     },
     "execution_count": 10,
     "metadata": {},
     "output_type": "execute_result"
    }
   ],
   "source": [
    "import numpy as np\n",
    "\n",
    "# Creating 1000 x 20 ndarray with random integers in the half-open interval [0, 5001).\n",
    "X = np.random.randint(0, 5001, size=(1000, 20))\n",
    "\n",
    "X.shape"
   ]
  },
  {
   "cell_type": "code",
   "execution_count": 11,
   "metadata": {},
   "outputs": [
    {
     "name": "stdout",
     "output_type": "stream",
     "text": [
      "(20,)\n",
      "(20,)\n"
     ]
    }
   ],
   "source": [
    "# Average of the values in each column of X\n",
    "ave_cols = X.mean(axis=0)\n",
    "print(ave_cols.shape)\n",
    "\n",
    "# Standard Deviation of the values in each column of X\n",
    "std_cols = X.std(axis=0)\n",
    "print(std_cols.shape)"
   ]
  },
  {
   "cell_type": "code",
   "execution_count": 4,
   "metadata": {},
   "outputs": [
    {
     "data": {
      "text/plain": [
       "(1000, 20)"
      ]
     },
     "execution_count": 4,
     "metadata": {},
     "output_type": "execute_result"
    }
   ],
   "source": [
    "# Mean normalize X\n",
    "X_norm = (X - ave_cols) / std_cols\n",
    "\n",
    "X_norm.shape"
   ]
  },
  {
   "cell_type": "code",
   "execution_count": 12,
   "metadata": {},
   "outputs": [
    {
     "name": "stdout",
     "output_type": "stream",
     "text": [
      "Average values of all values of X_norm: -3.232969447708456e-17\n",
      "\n",
      "Average of minimum value in each column of X_norm: -1.7369082681250085\n",
      "\n",
      "Average of maximum value in each column of X_norm: 1.7405484471431094\n"
     ]
    }
   ],
   "source": [
    "print('Average values of all values of X_norm:', np.mean(X_norm))\n",
    "\n",
    "print('\\nAverage of minimum value in each column of X_norm:', np.mean(X_norm.min(axis=0)))\n",
    "\n",
    "print('\\nAverage of maximum value in each column of X_norm:', np.mean(X_norm.max(axis=0)))\n"
   ]
  },
  {
   "cell_type": "code",
   "execution_count": 13,
   "metadata": {},
   "outputs": [
    {
     "data": {
      "text/plain": [
       "array([2, 0, 3, 1, 4])"
      ]
     },
     "execution_count": 13,
     "metadata": {},
     "output_type": "execute_result"
    }
   ],
   "source": [
    "# Creating random permutation of integers 0 to 4\n",
    "np.random.permutation(5)"
   ]
  },
  {
   "cell_type": "code",
   "execution_count": 14,
   "metadata": {},
   "outputs": [],
   "source": [
    "# Creating rank 1 ndarray that contains a random permutation of the row indices of `X_norm`\n",
    "row_indices =np.random.permutation(X_norm.shape[0])\n"
   ]
  },
  {
   "cell_type": "code",
   "execution_count": 17,
   "metadata": {},
   "outputs": [],
   "source": [
    "sixty = int(len(X_norm)*0.6)\n",
    "eighty = int(len(X_norm)*0.8)\n",
    "\n",
    "# Creating Training Set\n",
    "X_train = X_norm[row_indices[:sixty]]\n",
    "\n",
    "# Creating Cross Validation Set\n",
    "X_crossVal = X_norm[row_indices[sixty:eighty]]\n",
    "\n",
    "\n",
    "# Createing Test Set\n",
    "X_test = X_norm[row_indices[eighty: ],: ]"
   ]
  },
  {
   "cell_type": "code",
   "execution_count": 24,
   "metadata": {},
   "outputs": [
    {
     "name": "stdout",
     "output_type": "stream",
     "text": [
      "[[ 0.72503224 -0.17481024 -0.14395804 ...  0.94064735 -1.60366965\n",
      "   0.60635314]\n",
      " [-0.52950709 -1.47547759  0.26581761 ...  0.2211868   0.00833967\n",
      "   0.37646933]\n",
      " [-0.53366578  1.21979802  1.35294892 ...  1.66149951  1.70283688\n",
      "   0.58469236]\n",
      " ...\n",
      " [-1.65304756 -0.02284699 -0.28195087 ...  0.40766207  1.65460243\n",
      "  -0.01691847]\n",
      " [-1.40491215  1.35863718 -0.80520286 ...  0.80635733  0.54101577\n",
      "  -1.02239813]\n",
      " [-0.7561559  -0.41726071 -0.67001191 ...  0.34364817  0.32640742\n",
      "   0.19899064]]\n",
      "(600, 20)\n"
     ]
    }
   ],
   "source": [
    "print(X_train)\n",
    "print(X_train.shape)"
   ]
  },
  {
   "cell_type": "code",
   "execution_count": 22,
   "metadata": {},
   "outputs": [
    {
     "data": {
      "text/plain": [
       "(200, 20)"
      ]
     },
     "execution_count": 22,
     "metadata": {},
     "output_type": "execute_result"
    }
   ],
   "source": [
    "X_crossVal.shape"
   ]
  },
  {
   "cell_type": "code",
   "execution_count": 23,
   "metadata": {},
   "outputs": [
    {
     "data": {
      "text/plain": [
       "(200, 20)"
      ]
     },
     "execution_count": 23,
     "metadata": {},
     "output_type": "execute_result"
    }
   ],
   "source": [
    "X_test.shape"
   ]
  },
  {
   "cell_type": "code",
   "execution_count": null,
   "metadata": {},
   "outputs": [],
   "source": []
  }
 ],
 "metadata": {
  "kernelspec": {
   "display_name": "Python 3",
   "language": "python",
   "name": "python3"
  },
  "language_info": {
   "codemirror_mode": {
    "name": "ipython",
    "version": 3
   },
   "file_extension": ".py",
   "mimetype": "text/x-python",
   "name": "python",
   "nbconvert_exporter": "python",
   "pygments_lexer": "ipython3",
   "version": "3.7.6"
  }
 },
 "nbformat": 4,
 "nbformat_minor": 4
}
